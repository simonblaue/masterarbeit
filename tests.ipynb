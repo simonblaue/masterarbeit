{
 "cells": [
  {
   "cell_type": "code",
   "execution_count": 1,
   "metadata": {},
   "outputs": [
    {
     "name": "stderr",
     "output_type": "stream",
     "text": [
      "2023-08-14 09:07:48.367 Python[32145:1305744] WARNING: Secure coding is not enabled for restorable state! Enable secure coding by implementing NSApplicationDelegate.applicationSupportsSecureRestorableState: and returning YES.\n"
     ]
    }
   ],
   "source": [
    "from src import util\n",
    "from src import plotting\n",
    "\n",
    "import numpy as np\n",
    "import matplotlib.pyplot as plt\n",
    "import matplotlib.lines as mlines\n",
    "\n",
    "# %matplotlib qt\n",
    "%matplotlib qt\n",
    "\n"
   ]
  },
  {
   "cell_type": "code",
   "execution_count": 2,
   "metadata": {},
   "outputs": [],
   "source": [
    "\n",
    "def plot_trj_3d(trjs, labels, legend=False, savename=None):\n",
    "\n",
    "    fig, ax = plt.subplots(subplot_kw=dict(projection=\"3d\"))\n",
    "    \n",
    "    lines = []\n",
    "\n",
    "    for trj, label in zip(trjs,labels):\n",
    "    \n",
    "        line, = ax.plot(trj[:,0],trj[:,1],trj[:,2], label=label)\n",
    "        ax.scatter(trj[0,0], trj[0,1], trj[0,2], marker='o', color=\"black\")\n",
    "        ax.scatter(trj[-1,0], trj[-1,1], trj[-1,2], marker='x', color='red')\n",
    "        lines.append(line)\n",
    "    \n",
    "    start_marker = mlines.Line2D([], [], marker='o', color=\"black\", linestyle='None',\n",
    "                          markersize=5, label='Start')\n",
    "    stop_marker = mlines.Line2D([], [], marker='x', color='red', linestyle='None',\n",
    "                          markersize=5, label='Stop')\n",
    "\n",
    "\n",
    "    lines += [start_marker, stop_marker]\n",
    "\n",
    "    plt.legend(handles = lines)\n",
    "        \n",
    "    if savename:\n",
    "        plt.savefig(\"plots/\" + savename + \".pdf\")\n",
    "        \n",
    "    plt.show(block=False)\n",
    "    plt.pause(0.001)"
   ]
  },
  {
   "cell_type": "code",
   "execution_count": 33,
   "metadata": {},
   "outputs": [],
   "source": [
    "import numpy as np\n",
    "import matplotlib.pyplot as plt\n",
    "\n",
    "def generate_parabola_trajectory(start_point, end_point, duration, num_points):\n",
    "    t = np.linspace(0, duration, num=num_points)  # Time vector\n",
    "\n",
    "    # Desired velocity profile (parabola)\n",
    "    v_max = np.linalg.norm(end_point - start_point) / duration  # Maximum velocity\n",
    "    v_desired = 2 * v_max * (1 - (t / duration - 0.5)**2)\n",
    "\n",
    "    # Integrate velocity profile to get positions using numerical integration\n",
    "    dt = duration / (num_points - 1)\n",
    "    z = np.zeros(num_points)\n",
    "    for i in range(1, num_points):\n",
    "        z[i] = z[i - 1] + (v_desired[i - 1] + v_desired[i]) * 0.5 * dt\n",
    "\n",
    "    # Normalize the z values to span from start to end points\n",
    "    z = start_point[2] + (z - z[0]) * (end_point[2] - start_point[2]) / (z[-1] - z[0])\n",
    "\n",
    "    # Generate x and y coordinates\n",
    "    x = np.linspace(start_point[0], end_point[0], num=num_points)  # Linear x movement\n",
    "    y = np.linspace(start_point[1], end_point[1], num=num_points)  # Linear y movement\n",
    "\n",
    "    trajectory = np.column_stack((x, y, z))\n",
    "    return trajectory\n",
    "\n",
    "start_point = np.array([-1, -1, 0])\n",
    "end_point = np.array([2, 2, 0])\n",
    "duration = 5\n",
    "num_points = 100\n",
    "\n",
    "trajectory = generate_parabola_trajectory(start_point, end_point, duration, num_points)\n",
    "\n",
    "# Plotting the trajectory\n",
    "fig = plt.figure(figsize=(6, 6))\n",
    "ax = fig.add_subplot(111, projection='3d')\n",
    "ax.plot(trajectory[:, 0], trajectory[:, 1], trajectory[:, 2])\n",
    "ax.set_xlabel('X')\n",
    "ax.set_ylabel('Y')\n",
    "ax.set_zlabel('Z')\n",
    "ax.set_title('3D Parabolic Trajectory')\n",
    "plt.show()\n"
   ]
  },
  {
   "cell_type": "code",
   "execution_count": 30,
   "metadata": {},
   "outputs": [],
   "source": [
    "def gen3d_trj(startpoint, endpoint, duration=5, dt=0.1):\n",
    "\n",
    "\n",
    "    center = duration/2\n",
    "    lower_bound = 0\n",
    "    upper_bound = duration\n",
    "    N = duration/dt\n",
    "    lower_bound_to_center = lower_bound + np.geomspace(lower_bound,center, num=int(N/2))\n",
    "    upper_bound_to_center = upper_bound - np.geomspace(center,upper_bound, num=int(N/2))\n",
    "    ts = list(lower_bound_to_center) + list(upper_bound_to_center)\n",
    "\n",
    "    gamma = [startpoint]\n",
    "\n",
    "    t = dt\n",
    "\n",
    "    e_t = (endpoint-startpoint)\n",
    "\n",
    "    for t in ts[1:]:\n",
    "\n",
    "        point_at_t = startpoint + t / duration * e_t\n",
    "\n",
    "        gamma.append(point_at_t)\n",
    "\n",
    "    gamma.append(endpoint)\n",
    "\n",
    "    return np.array(gamma)"
   ]
  },
  {
   "cell_type": "code",
   "execution_count": 31,
   "metadata": {},
   "outputs": [
    {
     "ename": "ValueError",
     "evalue": "Geometric sequence cannot include zero",
     "output_type": "error",
     "traceback": [
      "\u001b[0;31m---------------------------------------------------------------------------\u001b[0m",
      "\u001b[0;31mValueError\u001b[0m                                Traceback (most recent call last)",
      "Cell \u001b[0;32mIn[31], line 1\u001b[0m\n\u001b[0;32m----> 1\u001b[0m trj \u001b[39m=\u001b[39m gen3d_trj(np\u001b[39m.\u001b[39;49marray([\u001b[39m1\u001b[39;49m,\u001b[39m1\u001b[39;49m,\u001b[39m0\u001b[39;49m]), np\u001b[39m.\u001b[39;49marray([\u001b[39m-\u001b[39;49m\u001b[39m0.5\u001b[39;49m, \u001b[39m-\u001b[39;49m\u001b[39m0.5\u001b[39;49m, \u001b[39m0\u001b[39;49m]))\n\u001b[1;32m      3\u001b[0m fig, ax \u001b[39m=\u001b[39m plt\u001b[39m.\u001b[39msubplots(subplot_kw\u001b[39m=\u001b[39m\u001b[39mdict\u001b[39m(projection\u001b[39m=\u001b[39m\u001b[39m\"\u001b[39m\u001b[39m3d\u001b[39m\u001b[39m\"\u001b[39m))\n\u001b[1;32m      5\u001b[0m ax\u001b[39m.\u001b[39mscatter(trj[\u001b[39m0\u001b[39m,\u001b[39m0\u001b[39m], trj[\u001b[39m0\u001b[39m,\u001b[39m1\u001b[39m], trj[\u001b[39m0\u001b[39m,\u001b[39m2\u001b[39m], label\u001b[39m=\u001b[39m\u001b[39m\"\u001b[39m\u001b[39mstart\u001b[39m\u001b[39m\"\u001b[39m)\n",
      "Cell \u001b[0;32mIn[30], line 8\u001b[0m, in \u001b[0;36mgen3d_trj\u001b[0;34m(startpoint, endpoint, duration, dt)\u001b[0m\n\u001b[1;32m      6\u001b[0m upper_bound \u001b[39m=\u001b[39m duration\n\u001b[1;32m      7\u001b[0m N \u001b[39m=\u001b[39m duration\u001b[39m/\u001b[39mdt\n\u001b[0;32m----> 8\u001b[0m lower_bound_to_center \u001b[39m=\u001b[39m lower_bound \u001b[39m+\u001b[39m np\u001b[39m.\u001b[39;49mgeomspace(lower_bound,center, num\u001b[39m=\u001b[39;49m\u001b[39mint\u001b[39;49m(N\u001b[39m/\u001b[39;49m\u001b[39m2\u001b[39;49m))\n\u001b[1;32m      9\u001b[0m upper_bound_to_center \u001b[39m=\u001b[39m upper_bound \u001b[39m-\u001b[39m np\u001b[39m.\u001b[39mgeomspace(center,upper_bound, num\u001b[39m=\u001b[39m\u001b[39mint\u001b[39m(N\u001b[39m/\u001b[39m\u001b[39m2\u001b[39m))\n\u001b[1;32m     10\u001b[0m ts \u001b[39m=\u001b[39m \u001b[39mlist\u001b[39m(lower_bound_to_center) \u001b[39m+\u001b[39m \u001b[39mlist\u001b[39m(upper_bound_to_center)\n",
      "File \u001b[0;32m~/Library/Python/3.11/lib/python/site-packages/numpy/core/function_base.py:414\u001b[0m, in \u001b[0;36mgeomspace\u001b[0;34m(start, stop, num, endpoint, dtype, axis)\u001b[0m\n\u001b[1;32m    412\u001b[0m stop \u001b[39m=\u001b[39m asanyarray(stop)\n\u001b[1;32m    413\u001b[0m \u001b[39mif\u001b[39;00m _nx\u001b[39m.\u001b[39many(start \u001b[39m==\u001b[39m \u001b[39m0\u001b[39m) \u001b[39mor\u001b[39;00m _nx\u001b[39m.\u001b[39many(stop \u001b[39m==\u001b[39m \u001b[39m0\u001b[39m):\n\u001b[0;32m--> 414\u001b[0m     \u001b[39mraise\u001b[39;00m \u001b[39mValueError\u001b[39;00m(\u001b[39m'\u001b[39m\u001b[39mGeometric sequence cannot include zero\u001b[39m\u001b[39m'\u001b[39m)\n\u001b[1;32m    416\u001b[0m dt \u001b[39m=\u001b[39m result_type(start, stop, \u001b[39mfloat\u001b[39m(num), _nx\u001b[39m.\u001b[39mzeros((), dtype))\n\u001b[1;32m    417\u001b[0m \u001b[39mif\u001b[39;00m dtype \u001b[39mis\u001b[39;00m \u001b[39mNone\u001b[39;00m:\n",
      "\u001b[0;31mValueError\u001b[0m: Geometric sequence cannot include zero"
     ]
    }
   ],
   "source": [
    "trj = gen3d_trj(np.array([1,1,0]), np.array([-0.5, -0.5, 0]))\n",
    "\n",
    "fig, ax = plt.subplots(subplot_kw=dict(projection=\"3d\"))\n",
    "\n",
    "ax.scatter(trj[0,0], trj[0,1], trj[0,2], label=\"start\")\n",
    "ax.scatter(trj[:,0],trj[:,1],trj[:,2])\n",
    "ax.scatter(trj[-1,0], trj[-1,1], trj[-1,2], label=\"end\")\n",
    "\n",
    "plt.legend()\n",
    "plt.show()"
   ]
  },
  {
   "cell_type": "code",
   "execution_count": 3,
   "metadata": {},
   "outputs": [
    {
     "name": "stdout",
     "output_type": "stream",
     "text": [
      "Normalized et:  [-1.75 -1.75  0.  ]\n",
      "Normalized et:  [1.75 1.75 0.  ]\n"
     ]
    }
   ],
   "source": [
    "t1, curve1 = util.artificial_grabing_data(np.array([1,1,0]), np.array([-0.75, -0.75, 0]))\n",
    "t2, curve2 = util.artificial_grabing_data(np.array([-1, -1, 0]), np.array([0.75, 0.75, 0]))\n",
    "\n",
    "# np.savetxt(\"artifical_data/data1.dat\", curve1, delimiter='  ')\n",
    "# np.savetxt(\"artifical_data/data2.dat\", curve2, delimiter='  ')\n",
    "\n",
    "\n",
    "# print(t1[:,np.newaxis].shape)\n",
    "# print(curve1.shape)\n",
    "\n",
    "# exp_data1 = np.hstack((t1[:,np.newaxis],curve1))\n",
    "# exp_data2 = np.hstack((t2[:,np.newaxis],curve2))\n",
    "\n",
    "# np.savetxt(\"artifical_data/data1_gt.dat\", exp_data1, delimiter='  ')\n",
    "# np.savetxt(\"artifical_data/data2_gt.dat\", exp_data2, delimiter='  ')"
   ]
  },
  {
   "cell_type": "code",
   "execution_count": 4,
   "metadata": {},
   "outputs": [],
   "source": []
  },
  {
   "cell_type": "code",
   "execution_count": 28,
   "metadata": {},
   "outputs": [],
   "source": [
    "curve1 = np.loadtxt(\"artifical_data/data1_gt.dat\")[:,1:]\n",
    "curve2 = np.loadtxt(\"artifical_data/data2_gt.dat\")[:,1:]"
   ]
  },
  {
   "cell_type": "code",
   "execution_count": 29,
   "metadata": {},
   "outputs": [],
   "source": [
    "plot_trj_3d([curve1, curve2], [\"Player 1\", \"Player 2\"])"
   ]
  },
  {
   "cell_type": "code",
   "execution_count": 30,
   "metadata": {},
   "outputs": [],
   "source": [
    "from interacting_dmps_david_wode.source_code.parameters import *"
   ]
  },
  {
   "cell_type": "code",
   "execution_count": 31,
   "metadata": {},
   "outputs": [],
   "source": [
    "collision_data_file_1 = \"artifical_data/data1.dat\"\n",
    "collision_data_file_2 = \"artifical_data/data2.dat\""
   ]
  },
  {
   "cell_type": "code",
   "execution_count": 32,
   "metadata": {},
   "outputs": [],
   "source": [
    "startpoint_a1 = curve1[0,:]\n",
    "startpoint_a2 = curve2[0,:]\n",
    "endpoint_a1 = curve1[-1,:]\n",
    "endpoint_a2 = curve2[-1,:]\n",
    "\n",
    "agent1 = agent(startpoint_a1, endpoint_a1, [1,1,1])\n",
    "agent2 = agent(startpoint_a2, endpoint_a2, [1,1,1])"
   ]
  },
  {
   "cell_type": "code",
   "execution_count": 33,
   "metadata": {},
   "outputs": [
    {
     "name": "stdout",
     "output_type": "stream",
     "text": [
      "Start Learning...\n",
      "|████████████████████████████████████████| 200/200 [100%] in 17.1s (11.73/s) \n",
      "Start Learning...\n",
      "|████████████████████████████████████████| 200/200 [100%] in 17.0s (11.77/s) \n"
     ]
    }
   ],
   "source": [
    "agent1.learn_trajectory(collision_data_file_1)\n",
    "agent2.learn_trajectory(collision_data_file_2)"
   ]
  },
  {
   "cell_type": "code",
   "execution_count": 34,
   "metadata": {},
   "outputs": [],
   "source": [
    "# What happens without direction bias? (but switching back to the approach sensitive function again)\n",
    "params['interaction_force_params']['direction_bias_const'] = 1e-4\n",
    "params['interaction_force_params']['func'] = 'heaviside'\n",
    "params['interaction_force_params']['extrapolate_ego'] = False\n",
    "\n",
    "# simulate again\n",
    "# simulation_time = len(collision_data_file_1)\n",
    "simulation_time = len(collision_data_file_1) * 5\n",
    "simulate_loosely_coupled_agents([agent1, agent2], T=simulation_time, params=params, delta_t=0.5)\n",
    "\n",
    "# plot both agent pairs in new plot\n",
    "plot_agents([agent1, agent2], T=simulation_time, params=params, delta_t=0.5, \n",
    "            suptitle=r'No direction bias? -> Collisions!', \n",
    "            num_of_interacting_agents=2,\n",
    "            file_name='collision', \n",
    "            list_of_learned_data=[collision_data_file_1, collision_data_file_2],\n",
    "            plot_pos_at_t= 0.6)\n",
    "plt.show()"
   ]
  },
  {
   "cell_type": "code",
   "execution_count": null,
   "metadata": {},
   "outputs": [],
   "source": []
  }
 ],
 "metadata": {
  "kernelspec": {
   "display_name": "Python 3",
   "language": "python",
   "name": "python3"
  },
  "language_info": {
   "codemirror_mode": {
    "name": "ipython",
    "version": 3
   },
   "file_extension": ".py",
   "mimetype": "text/x-python",
   "name": "python",
   "nbconvert_exporter": "python",
   "pygments_lexer": "ipython3",
   "version": "3.11.4"
  },
  "orig_nbformat": 4
 },
 "nbformat": 4,
 "nbformat_minor": 2
}
